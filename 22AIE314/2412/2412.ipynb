{
 "cells": [
  {
   "cell_type": "markdown",
   "metadata": {},
   "source": [
    "### Square Root"
   ]
  },
  {
   "cell_type": "code",
   "execution_count": null,
   "metadata": {},
   "outputs": [],
   "source": [
    "import math\n",
    "\n",
    "def calculate_square_root(num):\n",
    "    return math.sqrt(num)\n",
    "\n",
    "print(calculate_square_root(9))"
   ]
  },
  {
   "cell_type": "markdown",
   "metadata": {},
   "source": [
    "### Triangle Area"
   ]
  },
  {
   "cell_type": "code",
   "execution_count": null,
   "metadata": {},
   "outputs": [],
   "source": [
    "def calculate_tr_area(base, height):\n",
    "    return 0.5 * base * height\n",
    "\n",
    "print(calculate_tr_area(3, 4))"
   ]
  },
  {
   "cell_type": "markdown",
   "metadata": {},
   "source": [
    "### Swapper"
   ]
  },
  {
   "cell_type": "code",
   "execution_count": null,
   "metadata": {},
   "outputs": [],
   "source": [
    "x = 10\n",
    "y = 5\n",
    "x,y = y,x\n",
    "print(x, y)"
   ]
  },
  {
   "cell_type": "markdown",
   "metadata": {},
   "source": [
    "### Random 1 digit number"
   ]
  },
  {
   "cell_type": "code",
   "execution_count": 4,
   "metadata": {},
   "outputs": [
    {
     "name": "stdout",
     "output_type": "stream",
     "text": [
      "1\n"
     ]
    }
   ],
   "source": [
    "# Generate random number\n",
    "import random\n",
    "print(random.randint(0,9))"
   ]
  },
  {
   "cell_type": "markdown",
   "metadata": {},
   "source": [
    "### List Operations"
   ]
  },
  {
   "cell_type": "code",
   "execution_count": 6,
   "metadata": {},
   "outputs": [
    {
     "name": "stdout",
     "output_type": "stream",
     "text": [
      "[3]\n",
      "[6432, 36737, 4321, 3, 64, 643, 234, 78, 335, 67348, 52, 344]\n",
      "3 234\n",
      "108831\n",
      "7997\n",
      "67348\n",
      "3\n"
     ]
    }
   ],
   "source": [
    "L1 = [3,78,67348,344,36737,4321]\n",
    "L2 = [335,52,6432,64,3,234,643,234]\n",
    "\n",
    "# common elements\n",
    "print(list(set(L1) & set(L2)))\n",
    "\n",
    "# aLL - Common elements\n",
    "print(list(set(L1) | set(L2)))\n",
    "\n",
    "print(L1[0],L2 [-1])\n",
    "\n",
    "print(sum(L1))\n",
    "print(sum(L2))\n",
    "\n",
    "print(max(max(L1), max(L2)))\n",
    "\n",
    "print(min(min(L1), min(L2)))"
   ]
  },
  {
   "cell_type": "markdown",
   "metadata": {},
   "source": [
    "### Dictionary marks"
   ]
  },
  {
   "cell_type": "code",
   "execution_count": null,
   "metadata": {},
   "outputs": [],
   "source": [
    "students = {\n",
    "    'Alice': {'Data Structures': 85, 'DAA': 90, 'Python': 95},\n",
    "    'Bob': {'Data Structures': 75, 'DAA': 80, 'Python': 70},\n",
    "    'Charlie': {'Data Structures': 95, 'DAA': 85, 'Python': 80}\n",
    "}\n",
    "\n",
    "# Sort students by marks in Python\n",
    "sorted_students = sorted(students.items(), key=lambda x: x[1]['Python'])\n",
    "\n",
    "# Display the details\n",
    "for student, marks in sorted_students:\n",
    "    print(f\"Name: {student}, Data Structures: {marks['Data Structures']}, DAA: {marks['DAA']}, Python: {marks['Python']}\")"
   ]
  },
  {
   "cell_type": "markdown",
   "metadata": {},
   "source": [
    "## Sorted Tuple"
   ]
  },
  {
   "cell_type": "code",
   "execution_count": null,
   "metadata": {},
   "outputs": [],
   "source": [
    "# Sample input\n",
    "sample_list = [(2, 5), (1, 2), (4, 4), (2, 3), (2, 1)]\n",
    "\n",
    "# Sort the list of tuples by the last element of each tuple\n",
    "sorted_list = sorted(sample_list, key=lambda x: x[-1])\n",
    "\n",
    "# Display the sorted list\n",
    "print(sorted_list)"
   ]
  },
  {
   "cell_type": "markdown",
   "metadata": {},
   "source": [
    "### Pattern Generation"
   ]
  },
  {
   "cell_type": "code",
   "execution_count": null,
   "metadata": {},
   "outputs": [],
   "source": [
    "i = 1\n",
    "while i <= 5:\n",
    "    j = 1\n",
    "    while j <= i:\n",
    "        print(j, end=' ')\n",
    "        j += 1\n",
    "    print()\n",
    "    i += 1"
   ]
  },
  {
   "cell_type": "markdown",
   "metadata": {},
   "source": [
    "### Read and Display Lines from Two Lines\n"
   ]
  },
  {
   "cell_type": "code",
   "execution_count": 7,
   "metadata": {},
   "outputs": [
    {
     "name": "stdout",
     "output_type": "stream",
     "text": [
      "Cryptography is the practice of securing information by transforming it into an unreadable format. It ensures data confidentiality, integrity, and authentication.\n",
      "Artificial Intelligence (AI) is the simulation of human intelligence in machines. It enables machines to learn from experience, adjust to new inputs, and perform tasks that typically require human intelligence.\n"
     ]
    }
   ],
   "source": [
    "# Function to read and display lines from two files\n",
    "def display_lines(file1, file2):\n",
    "    with open(file1, 'r') as f1, open(file2, 'r') as f2:\n",
    "        for line1, line2 in zip(f1, f2):\n",
    "            print(line1.strip())\n",
    "            print(line2.strip())\n",
    "\n",
    "# Example usage\n",
    "file1 = 'file1.txt'\n",
    "file2 = 'file2.txt'\n",
    "display_lines(file1, file2)"
   ]
  },
  {
   "cell_type": "markdown",
   "metadata": {},
   "source": [
    "### Simple Interest"
   ]
  },
  {
   "cell_type": "code",
   "execution_count": null,
   "metadata": {},
   "outputs": [],
   "source": [
    "def simple_int(p, t, r):\n",
    "    return (p * t * r) / 100\n",
    "\n",
    "# Example usage\n",
    "principal = 1000\n",
    "time = 2\n",
    "rate = 5\n",
    "interest = simple_int(principal, time, rate)\n",
    "print(f\"Simple Interest: {interest}\")"
   ]
  }
 ],
 "metadata": {
  "language_info": {
   "name": "python"
  }
 },
 "nbformat": 4,
 "nbformat_minor": 2
}
